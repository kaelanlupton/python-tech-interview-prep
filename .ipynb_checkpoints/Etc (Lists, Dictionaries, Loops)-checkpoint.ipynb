{
 "cells": [
  {
   "cell_type": "markdown",
   "metadata": {},
   "source": [
    "# Additional Things"
   ]
  },
  {
   "cell_type": "markdown",
   "metadata": {},
   "source": [
    "Lists and fun things with them, what they can be used for (arrays, stack, queue) there is a beter queue module,  but best to stick  to basic structures in interviewes\n"
   ]
  },
  {
   "cell_type": "markdown",
   "metadata": {},
   "source": [
    "Dictionary:\n",
    "The Python dictionary data structure is as universally useful as it gets. It works out-of-box as an excellent hashmap.\n",
    "Use defaultdict from collections for saving some interview time initializing values for new keys.\n",
    "To create a hashmap of elements of a string or list (some other iterables will work too), use Counter from collections. These are simple techniques to save a few error-prone lines when time is essential. Caution: be careful about traversing a Counter, some functions from usual dict may not work."
   ]
  },
  {
   "cell_type": "markdown",
   "metadata": {},
   "source": [
    "Loops:\n",
    "Loops in Python are same as other languages, if not easier. You’d use while and for loop, but try to use for loop only, as missing to increment the counter is a common mistake. Always push the increment to as later as possible (see line 4 in the following code snippet).\n",
    "Do not put too many return statements inside a loop (again, Google Style Guide), and always check if one last return is needed after you just ended the loop.\n",
    "Use break/continue, they are useful. Break will get you out of the loop as continue will throw you back at the loop invariant. You should not need to use pass much.\n",
    "Python has a cute else statement after the loop, which executes if you finish the loop normally (say, without a break). This can be very useful for shorthand coding, but do mention this to the interviewer 🙋as it looks like part of a faulty if-else at first glance."
   ]
  },
  {
   "cell_type": "markdown",
   "metadata": {},
   "source": [
    "Basic Data structures:\n",
    "Linked lists and Binary trees are the most common data structures you would need in an interview. It is straightforward to implement them in Python.\n",
    "While loops are useful to loop through a linked list or traverse a tree (e.g. while node.next is not None).\n",
    "A graph is most often represented as an adjacency list in terms of Python dictionaries. For undirected graphs, same edge will be counted twice.\n",
    "Breadth-first and depth-first search are absolutely simple in Python using a queue and a stack respectively. Check out an excellent roundup.\n"
   ]
  },
  {
   "cell_type": "markdown",
   "metadata": {},
   "source": [
    "https://google.github.io/styleguide/pyguide.html"
   ]
  },
  {
   "cell_type": "markdown",
   "metadata": {},
   "source": [
    "Would the problem be easier if your array were sorted? If so, you can always tell the interviewer that you'd first do an O(n lg n) sort. Heapsort is an asymptotically optimal \"in-place\" sort. Once your array is sorted, think about how you can use a variant of binary search to get O(lg n) performance rather than O(n) for an algorithm based on linear scanning."
   ]
  },
  {
   "cell_type": "markdown",
   "metadata": {},
   "source": [
    "Linked lists\n",
    "Linked list problems almost always involve singly-linked lists.\n",
    "\n",
    "If you are implementing an iterative algorithm to operate on a singly-linked list, chances are that you'll need to walk two pointers, which I like to call cur and prev, down the list until one is null.\n",
    "\n",
    "Some problems require you to keep a gap of N elements between your cur and prev pointers.\n",
    "\n",
    "Some problems requires your cur and prev pointers to advance at different speeds. e.g., moving prev up by one element while moving cur up by two elements.\n",
    "\n",
    "For most recursive algorithms, the base case is when the pointer is null.\n",
    "\n",
    "Sometimes you might need to keep a pointer to the final (tail) element of the list as well as to the head.\n",
    "\n"
   ]
  },
  {
   "cell_type": "markdown",
   "metadata": {},
   "source": [
    "Remember that not all binary trees are binary search trees, and know the difference between the two.\n",
    "\n",
    "Know about the idea of a balanced binary search tree (e.g., AVL tree or red-black tree), but don't worry about being able to implement one during an interview."
   ]
  },
  {
   "cell_type": "markdown",
   "metadata": {},
   "source": [
    "Graphs\n",
    "Whenever you need to represent binary relationships, think about using a graph. e.g., X is friends with Y, or X has a crush on Y, or Task X needs to be done before task Y.\n",
    "\n",
    "Now that you have a graph representation, what can you do with it? Chances are, you won't be asked to implement any sort of sophisticated graph algorithm since you simply don't have time in a 1-hour interview to do so.\n",
    "\n",
    "Definitely know how to implement a depth-first search using a stack data structure (or using recursion, which implicitly uses your function call stack)\n",
    "\n",
    "Definitely know how to implement breadth-first search using a queue data structure.\n",
    "\n",
    "Draw a few examples of graphs for your particular problem and see what common structure arises, then tailor your algorithms to that type of structure. For example, you might find that the graphs for your problem are all acyclic, or that they always have one unique source and sink node, or that they are bipartite (e.g., for 'matchmaking' problems), or that they are actually trees in disguise :)\n",
    "\n",
    "Know about the idea of topological sort."
   ]
  },
  {
   "cell_type": "markdown",
   "metadata": {},
   "source": [
    "linked list problems stanford http://cslibrary.stanford.edu/105/LinkedListProblems.pdf"
   ]
  },
  {
   "cell_type": "markdown",
   "metadata": {},
   "source": [
    "stanford binary tree problems http://cslibrary.stanford.edu/110/BinaryTrees.html#s2"
   ]
  },
  {
   "cell_type": "markdown",
   "metadata": {},
   "source": [
    "### Basics"
   ]
  },
  {
   "cell_type": "code",
   "execution_count": null,
   "metadata": {},
   "outputs": [],
   "source": [
    "# FOR LOOP\n",
    "for i in range (0,15,5):\n",
    "    print(i)\n",
    "    "
   ]
  },
  {
   "cell_type": "code",
   "execution_count": null,
   "metadata": {},
   "outputs": [],
   "source": [
    "# WHILE LOOP\n",
    "\n",
    "x = False\n",
    "# raw_input is for text\n",
    "# input is for integers\n",
    "\n",
    "while not x:\n",
    "    ins = input(\"Number\")\n",
    "    if ins == \"0\":\n",
    "        x = True\n",
    "    else:\n",
    "        print(\"no\")"
   ]
  },
  {
   "cell_type": "code",
   "execution_count": null,
   "metadata": {},
   "outputs": [],
   "source": [
    "# DICTIONARY\n",
    "\n",
    "my_dict = {'name': 'Kaelan', 'age': 23}\n",
    "for key,val in my_dict.items():\n",
    "    print(key,val)"
   ]
  },
  {
   "cell_type": "code",
   "execution_count": null,
   "metadata": {},
   "outputs": [],
   "source": [
    "# IF THEN, ELSE\n",
    "\n",
    "a = 20\n",
    "b = 10\n",
    "\n",
    "if a < b:\n",
    "    print(str(a)+\" is less than \"+str(b))\n",
    "elif a > b:\n",
    "    print(str(a)+\" is greater than \"+str(b))\n",
    "else:\n",
    "    print(str(a)+\" and \"+str(b)+\" are  equal\") "
   ]
  },
  {
   "cell_type": "markdown",
   "metadata": {},
   "source": [
    "### Standard Problems"
   ]
  },
  {
   "cell_type": "code",
   "execution_count": null,
   "metadata": {},
   "outputs": [],
   "source": [
    "# FIZZ BUZZ\n",
    "\n",
    "for i in range(0,101):\n",
    "    if i % 5 == 0 & i % 3 == 0:\n",
    "        print(\"Fizzbuzz\")\n",
    "    elif i % 3 == 0:\n",
    "        print(\"Fizz\")\n",
    "    elif i % 5 == 0:\n",
    "        print(\"Buzz\")\n",
    "    else:\n",
    "        print(i)"
   ]
  },
  {
   "cell_type": "code",
   "execution_count": 1,
   "metadata": {},
   "outputs": [
    {
     "name": "stdout",
     "output_type": "stream",
     "text": [
      "0\n",
      "1\n",
      "1\n",
      "2\n",
      "3\n",
      "5\n",
      "8\n",
      "13\n",
      "21\n",
      "34\n"
     ]
    }
   ],
   "source": [
    "# FIBONACCI \n",
    "\n",
    "a, b = 0, 1\n",
    "for i in range(0,10):\n",
    "    print(a)\n",
    "    a,b = b, a+b"
   ]
  },
  {
   "cell_type": "code",
   "execution_count": 2,
   "metadata": {},
   "outputs": [
    {
     "name": "stdout",
     "output_type": "stream",
     "text": [
      "[1, 4, 9, 16, 25, 36, 49, 64, 81, 100]\n"
     ]
    }
   ],
   "source": [
    "num_list = [1,2,3,4,5,6,7,8,9,10]\n",
    "squares = [num*num for num in num_list]\n",
    "print(squares)"
   ]
  },
  {
   "cell_type": "code",
   "execution_count": null,
   "metadata": {},
   "outputs": [],
   "source": []
  }
 ],
 "metadata": {
  "kernelspec": {
   "display_name": "Python 3",
   "language": "python",
   "name": "python3"
  },
  "language_info": {
   "codemirror_mode": {
    "name": "ipython",
    "version": 3
   },
   "file_extension": ".py",
   "mimetype": "text/x-python",
   "name": "python",
   "nbconvert_exporter": "python",
   "pygments_lexer": "ipython3",
   "version": "3.6.7rc2"
  }
 },
 "nbformat": 4,
 "nbformat_minor": 2
}
