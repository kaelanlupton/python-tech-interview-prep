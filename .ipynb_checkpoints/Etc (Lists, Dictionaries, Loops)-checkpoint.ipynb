{
 "cells": [
  {
   "cell_type": "markdown",
   "metadata": {},
   "source": [
    "# Some Rough Notes (Will be cleaned up)"
   ]
  },
  {
   "cell_type": "markdown",
   "metadata": {},
   "source": [
    "Lists and fun things with them, what they can be used for (arrays, stack, queue) there is a beter queue module,  but best to stick  to basic structures in interviewes\n"
   ]
  },
  {
   "cell_type": "markdown",
   "metadata": {},
   "source": [
    "Basic Data structures:\n",
    "Linked lists and Binary trees are the most common data structures you would need in an interview. It is straightforward to implement them in Python.\n",
    "While loops are useful to loop through a linked list or traverse a tree (e.g. while node.next is not None).\n",
    "A graph is most often represented as an adjacency list in terms of Python dictionaries. For undirected graphs, same edge will be counted twice.\n",
    "Breadth-first and depth-first search are absolutely simple in Python using a queue and a stack respectively. Check out an excellent roundup.\n"
   ]
  },
  {
   "cell_type": "markdown",
   "metadata": {},
   "source": [
    "https://google.github.io/styleguide/pyguide.html"
   ]
  },
  {
   "cell_type": "markdown",
   "metadata": {},
   "source": [
    "Would the problem be easier if your array were sorted? If so, you can always tell the interviewer that you'd first do an O(n lg n) sort. Heapsort is an asymptotically optimal \"in-place\" sort. Once your array is sorted, think about how you can use a variant of binary search to get O(lg n) performance rather than O(n) for an algorithm based on linear scanning."
   ]
  },
  {
   "cell_type": "markdown",
   "metadata": {},
   "source": [
    "Linked lists\n",
    "Linked list problems almost always involve singly-linked lists.\n",
    "\n",
    "If you are implementing an iterative algorithm to operate on a singly-linked list, chances are that you'll need to walk two pointers, which I like to call cur and prev, down the list until one is null.\n",
    "\n",
    "Some problems require you to keep a gap of N elements between your cur and prev pointers.\n",
    "\n",
    "Some problems requires your cur and prev pointers to advance at different speeds. e.g., moving prev up by one element while moving cur up by two elements.\n",
    "\n",
    "For most recursive algorithms, the base case is when the pointer is null.\n",
    "\n",
    "Sometimes you might need to keep a pointer to the final (tail) element of the list as well as to the head.\n",
    "\n"
   ]
  },
  {
   "cell_type": "markdown",
   "metadata": {},
   "source": [
    "Remember that not all binary trees are binary search trees, and know the difference between the two.\n",
    "\n",
    "Know about the idea of a balanced binary search tree (e.g., AVL tree or red-black tree), but don't worry about being able to implement one during an interview."
   ]
  },
  {
   "cell_type": "markdown",
   "metadata": {},
   "source": [
    "Graphs\n",
    "Whenever you need to represent binary relationships, think about using a graph. e.g., X is friends with Y, or X has a crush on Y, or Task X needs to be done before task Y.\n",
    "\n",
    "Now that you have a graph representation, what can you do with it? Chances are, you won't be asked to implement any sort of sophisticated graph algorithm since you simply don't have time in a 1-hour interview to do so.\n",
    "\n",
    "Definitely know how to implement a depth-first search using a stack data structure (or using recursion, which implicitly uses your function call stack)\n",
    "\n",
    "Definitely know how to implement breadth-first search using a queue data structure.\n",
    "\n",
    "Draw a few examples of graphs for your particular problem and see what common structure arises, then tailor your algorithms to that type of structure. For example, you might find that the graphs for your problem are all acyclic, or that they always have one unique source and sink node, or that they are bipartite (e.g., for 'matchmaking' problems), or that they are actually trees in disguise :)\n",
    "\n",
    "Know about the idea of topological sort."
   ]
  },
  {
   "cell_type": "markdown",
   "metadata": {},
   "source": [
    "linked list problems stanford http://cslibrary.stanford.edu/105/LinkedListProblems.pdf"
   ]
  },
  {
   "cell_type": "markdown",
   "metadata": {},
   "source": [
    "stanford binary tree problems http://cslibrary.stanford.edu/110/BinaryTrees.html#s2"
   ]
  },
  {
   "cell_type": "markdown",
   "metadata": {},
   "source": [
    "# Basics"
   ]
  },
  {
   "cell_type": "markdown",
   "metadata": {},
   "source": [
    "#### Loops\n",
    "\n",
    "While loops: always push the increment to as late as possible.\n",
    "\n",
    "Do not put too many return statements inside a loop (see Google Style Guide) and always check if one last return is needed after you just ended the loop.\n",
    "\n",
    "Use break/continue, they are useful. Break will get you out of the loop as continue will throw you back at the loop invariant. You should not need to use pass much.\n",
    "\n",
    "Python has a cute else statement after the loop, which executes if you finish the loop normally (say, without a break). This can be very useful for shorthand coding, but do mention this to the interviewer 🙋as it looks like part of a faulty if-else at first glance."
   ]
  },
  {
   "cell_type": "code",
   "execution_count": 7,
   "metadata": {},
   "outputs": [
    {
     "name": "stdout",
     "output_type": "stream",
     "text": [
      "0\n",
      "5\n",
      "10\n"
     ]
    }
   ],
   "source": [
    "# FOR LOOP\n",
    "for i in range (0,15,5):\n",
    "    print(i)\n",
    "    "
   ]
  },
  {
   "cell_type": "code",
   "execution_count": 8,
   "metadata": {},
   "outputs": [
    {
     "name": "stdout",
     "output_type": "stream",
     "text": [
      "Number0\n"
     ]
    }
   ],
   "source": [
    "# WHILE LOOP\n",
    "\n",
    "x = False\n",
    "# raw_input is for text\n",
    "# input is for integers\n",
    "\n",
    "while not x:\n",
    "    ins = input(\"Number\")\n",
    "    if ins == \"0\":\n",
    "        x = True\n",
    "    else:\n",
    "        print(\"no\")"
   ]
  },
  {
   "cell_type": "markdown",
   "metadata": {},
   "source": [
    "#### Dictionary\n",
    "\n",
    "The Python dictionary data structure is as universally useful as it gets. It works out-of-box as an excellent hashmap.\n",
    "\n",
    "Use defaultdict from collections for saving some interview time initializing values for new keys.\n",
    "\n",
    "To create a hashmap of elements of a string or list (some other iterables will work too), use Counter from collections. These are simple techniques to save a few error-prone lines when time is essential.\n",
    "\n",
    "Caution: be careful about traversing a Counter, some functions from usual dict may not work."
   ]
  },
  {
   "cell_type": "code",
   "execution_count": 9,
   "metadata": {},
   "outputs": [
    {
     "name": "stdout",
     "output_type": "stream",
     "text": [
      "name Kaelan\n",
      "age 23\n"
     ]
    }
   ],
   "source": [
    "# DICTIONARY\n",
    "\n",
    "my_dict = {'name': 'Kaelan', 'age': 23}\n",
    "for key,val in my_dict.items():\n",
    "    print(key,val)"
   ]
  },
  {
   "cell_type": "markdown",
   "metadata": {},
   "source": [
    "##### Tuples\n",
    "\n",
    "Tuples are like lists, not they are immutable. They're fixed in size, whereas lists are dynamic.\n",
    "\n",
    "Some notes:\n",
    "\n",
    "- You can't add elements to a tuple - no append or extend methods\n",
    "- You can't remove elements from a tuple\n",
    "- You CAN find elements in a tuple\n",
    "- You CAN also use the in operator to check if an element exists in a tuple\n",
    "- Tuples are faster than lists - good if you're defining a constant set of values and you're only iterating through it\n"
   ]
  },
  {
   "cell_type": "code",
   "execution_count": 1,
   "metadata": {},
   "outputs": [
    {
     "name": "stdout",
     "output_type": "stream",
     "text": [
      "1\n",
      "2\n",
      "3\n",
      "4\n",
      "5\n"
     ]
    }
   ],
   "source": [
    "my_tuple = (1,2,3,4,5)\n",
    "for i in my_tuple:\n",
    "    print(i)"
   ]
  },
  {
   "cell_type": "markdown",
   "metadata": {},
   "source": [
    "#### If Statements"
   ]
  },
  {
   "cell_type": "code",
   "execution_count": null,
   "metadata": {},
   "outputs": [],
   "source": [
    "# IF THEN, ELSE\n",
    "\n",
    "a = 20\n",
    "b = 10\n",
    "\n",
    "if a < b:\n",
    "    print(str(a)+\" is less than \"+str(b))\n",
    "elif a > b:\n",
    "    print(str(a)+\" is greater than \"+str(b))\n",
    "else:\n",
    "    print(str(a)+\" and \"+str(b)+\" are  equal\") "
   ]
  },
  {
   "cell_type": "markdown",
   "metadata": {},
   "source": [
    "# Standard Problems"
   ]
  },
  {
   "cell_type": "code",
   "execution_count": 12,
   "metadata": {},
   "outputs": [
    {
     "name": "stdout",
     "output_type": "stream",
     "text": [
      "Fizzbuzz\n",
      "1\n",
      "2\n",
      "Fizz\n",
      "4\n",
      "Fizzbuzz\n",
      "Fizz\n",
      "7\n",
      "8\n",
      "Fizz\n",
      "Fizzbuzz\n",
      "11\n",
      "Fizz\n",
      "13\n",
      "14\n",
      "Fizzbuzz\n",
      "16\n",
      "17\n",
      "Fizz\n",
      "19\n"
     ]
    }
   ],
   "source": [
    "# FIZZ BUZZ\n",
    "\n",
    "for i in range(0,20):\n",
    "    if i % 5 == 0 & i % 3 == 0:\n",
    "        print(\"Fizzbuzz\")\n",
    "    elif i % 3 == 0:\n",
    "        print(\"Fizz\")\n",
    "    elif i % 5 == 0:\n",
    "        print(\"Buzz\")\n",
    "    else:\n",
    "        print(i)"
   ]
  },
  {
   "cell_type": "code",
   "execution_count": 13,
   "metadata": {},
   "outputs": [
    {
     "name": "stdout",
     "output_type": "stream",
     "text": [
      "0\n",
      "1\n",
      "1\n",
      "2\n",
      "3\n",
      "5\n",
      "8\n",
      "13\n",
      "21\n",
      "34\n"
     ]
    }
   ],
   "source": [
    "# FIBONACCI \n",
    "\n",
    "a, b = 0, 1\n",
    "for i in range(0,10):\n",
    "    print(a)\n",
    "    a,b = b, a+b"
   ]
  },
  {
   "cell_type": "code",
   "execution_count": 24,
   "metadata": {},
   "outputs": [
    {
     "name": "stdout",
     "output_type": "stream",
     "text": [
      "1: 0\n",
      "2: 1\n",
      "3: 1\n",
      "4: 2\n",
      "5: 3\n",
      "6: 5\n",
      "7: 8\n",
      "8: 13\n",
      "9: 21\n",
      "10: 34\n"
     ]
    }
   ],
   "source": [
    "# BETTER: FIBONACCI GENERATOR\n",
    "\n",
    "# OK, not necessarily better - but if given the fibonacci question, building a generator instead\n",
    "# shows a wealth of knowledge, and that you're not just giving the default answer.\n",
    "# Plus, it shows an understanding of generators and the yield function.\n",
    "\n",
    "# A note on generators...\n",
    "# \"Generators are iterators, but you can only iterate over them once.\n",
    "# It’s because they do not store all the values in memory, they generate the values on the fly\"\n",
    "# You can not perform for i in mygenerator a second time since generators can only be used once:\n",
    "# they calculate 0, then forget about it and calculate 1, and end calculating 4, one by one.\n",
    "\n",
    "def fib(num):\n",
    "    a,b = 0,1\n",
    "    for i in range(0,num):\n",
    "        yield \"{}: {}\".format(i+1, a)\n",
    "        #yield i+1, a #accomplishes the same thing, but less pretty\n",
    "        a, b = b, a + b\n",
    "        \n",
    "for item in fib(10):\n",
    "    print(item)"
   ]
  },
  {
   "cell_type": "code",
   "execution_count": 30,
   "metadata": {},
   "outputs": [
    {
     "name": "stdout",
     "output_type": "stream",
     "text": [
      "1\n",
      "4\n",
      "9\n",
      "16\n",
      "25\n",
      "[1, 4, 9, 16, 25]\n"
     ]
    }
   ],
   "source": [
    "# ANOTHER GENERATOR EXAMPLE\n",
    "\n",
    "def squares(nums):\n",
    "    for i in nums:\n",
    "        yield (i*i)        \n",
    "for num in squares([1,2,3,4,5]):\n",
    "    print(num)\n",
    "    \n",
    "    \n",
    "# or, using list comprehension...\n",
    "\n",
    "list_comp_squares = (x*x for x in [1,2,3,4,5])\n",
    "print(list(list_comp_squares))\n",
    "# print(list_comp_squares) returns the generator object"
   ]
  },
  {
   "cell_type": "code",
   "execution_count": 6,
   "metadata": {},
   "outputs": [
    {
     "name": "stdout",
     "output_type": "stream",
     "text": [
      "[1, 4, 9, 16, 25, 36, 49, 64, 81, 100]\n",
      "[1, 2, 3, 4, 5, 6, 7, 8, 9, 10]\n",
      "[2, 4, 6, 8, 10]\n",
      "[('Bruce', 'Batman'), ('Bruce', 'Superman'), ('Clark', 'Batman'), ('Clark', 'Superman')]\n",
      "{'Bruce': 'Batman', 'Clark': 'Superman'}\n"
     ]
    }
   ],
   "source": [
    "# LIST COMPREHENSION - SQUARES\n",
    "\n",
    "num_list = [1,2,3,4,5,6,7,8,9,10]\n",
    "squares = [num*num for num in num_list]\n",
    "print(squares)\n",
    "\n",
    "new = [n for n in num_list]\n",
    "new_if = [n for n in num_list if n%2==0]\n",
    "# [ WE WANT for THIS VALUE in THIS PLACE]\n",
    "print(new)\n",
    "print(new_if)\n",
    "\n",
    "names = ['Bruce', 'Clark']\n",
    "heros = ['Batman', 'Superman']\n",
    "\n",
    "example_mismatch = [(name,hero) for name in names for hero in heros]\n",
    "print(example_mismatch)\n",
    "\n",
    "#dictionary comprehension\n",
    "my_dict = {name: hero for name, hero in zip(names, heros)}\n",
    "print(my_dict)"
   ]
  },
  {
   "cell_type": "code",
   "execution_count": null,
   "metadata": {},
   "outputs": [],
   "source": []
  }
 ],
 "metadata": {
  "kernelspec": {
   "display_name": "Python 3",
   "language": "python",
   "name": "python3"
  },
  "language_info": {
   "codemirror_mode": {
    "name": "ipython",
    "version": 3
   },
   "file_extension": ".py",
   "mimetype": "text/x-python",
   "name": "python",
   "nbconvert_exporter": "python",
   "pygments_lexer": "ipython3",
   "version": "3.6.7rc2"
  }
 },
 "nbformat": 4,
 "nbformat_minor": 2
}
